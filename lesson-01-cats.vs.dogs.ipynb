{
 "cells": [
  {
   "cell_type": "code",
   "execution_count": 1,
   "metadata": {
    "collapsed": true
   },
   "outputs": [],
   "source": [
    "%reload_ext autoreload\n",
    "%autoreload 2"
   ]
  },
  {
   "cell_type": "code",
   "execution_count": 2,
   "metadata": {
    "collapsed": true
   },
   "outputs": [],
   "source": [
    "import lib.data_loaders as data_loaders\n",
    "import lib.data_transformers as data_transformers\n",
    "import lib.models_repo as models_repo\n",
    "import lib.optimizer_repo as optimizer_repo\n",
    "import lib.scheduler_repo as scheduler_repo\n",
    "import lib.trainer as trainer"
   ]
  },
  {
   "cell_type": "code",
   "execution_count": 3,
   "metadata": {
    "collapsed": true
   },
   "outputs": [],
   "source": [
    "from torchvision.datasets.folder import ImageFolder"
   ]
  },
  {
   "cell_type": "code",
   "execution_count": 4,
   "metadata": {
    "collapsed": true
   },
   "outputs": [],
   "source": [
    "%matplotlib inline"
   ]
  },
  {
   "cell_type": "code",
   "execution_count": 5,
   "metadata": {
    "collapsed": true
   },
   "outputs": [],
   "source": [
    "data_path = \"/home/as/datasets/fastai.dogscats\"\n",
    "num_classes = 2\n",
    "img_size  = 224\n",
    "batch_size = 128"
   ]
  },
  {
   "cell_type": "code",
   "execution_count": 6,
   "metadata": {
    "collapsed": true
   },
   "outputs": [],
   "source": [
    "norm = data_transformers.resnet_normaliser\n",
    "trans = data_transformers.get_transformer(img_size, norm, False)\n",
    "trans_aug = data_transformers.get_transformer(img_size, norm, True)\n",
    "trans_valid = data_transformers.get_test_valid_transformer(img_size, norm)"
   ]
  },
  {
   "cell_type": "code",
   "execution_count": 7,
   "metadata": {
    "collapsed": true
   },
   "outputs": [],
   "source": [
    "# Vanilla dataset\n",
    "train_images = ImageFolder(f'{data_path}/train', transform=trans)\n",
    "# Vanilla dataset\n",
    "train_images_aug = ImageFolder(f'{data_path}/train', transform=trans_aug)\n",
    "# For valid and test datasets\n",
    "valid_images = ImageFolder(f'{data_path}/valid', transform=trans_valid)"
   ]
  },
  {
   "cell_type": "code",
   "execution_count": 8,
   "metadata": {},
   "outputs": [
    {
     "name": "stdout",
     "output_type": "stream",
     "text": [
      "Number of train instances 23000\n",
      "Number of valid instances 2000\n"
     ]
    }
   ],
   "source": [
    "print('Number of train instances', len(train_images))\n",
    "print('Number of valid instances', len(valid_images))"
   ]
  },
  {
   "cell_type": "code",
   "execution_count": 9,
   "metadata": {},
   "outputs": [
    {
     "name": "stdout",
     "output_type": "stream",
     "text": [
      "Classes ['cats', 'dogs']\n",
      "Class index {'cats': 0, 'dogs': 1}\n"
     ]
    }
   ],
   "source": [
    "print('Classes', train_images.classes)\n",
    "print('Class index', train_images.class_to_idx)"
   ]
  },
  {
   "cell_type": "code",
   "execution_count": 10,
   "metadata": {
    "collapsed": true
   },
   "outputs": [],
   "source": [
    "train_loader = data_loaders.get_data_loader(train_images, batch_size)\n",
    "train_loader_aug = data_loaders.get_data_loader(train_images_aug, batch_size)\n",
    "valid_loader = data_loaders.get_data_loader(valid_images, batch_size)"
   ]
  },
  {
   "cell_type": "code",
   "execution_count": 11,
   "metadata": {},
   "outputs": [],
   "source": [
    "if False:\n",
    "    model = models_repo.resnet_vanilla(num_classes)\n",
    "    criteria, optimizer = optimizer_repo.sgd(model, 0.01)\n",
    "    scheduler = scheduler_repo.step_lr(optimizer)\n",
    "\n",
    "    best_model = trainer.experiment(model, criteria, optimizer, scheduler, train_loader, valid_loader, 10)"
   ]
  },
  {
   "cell_type": "code",
   "execution_count": 12,
   "metadata": {},
   "outputs": [],
   "source": [
    "if False:\n",
    "    model = models_repo.resnet_vanilla(num_classes)\n",
    "    criteria, optimizer = optimizer_repo.sgd(model, 0.01)\n",
    "    scheduler = scheduler_repo.step_lr(optimizer)\n",
    "\n",
    "    best_model = trainer.experiment(model, criteria, optimizer, scheduler, train_loader_aug, valid_loader, 10)"
   ]
  },
  {
   "cell_type": "code",
   "execution_count": 18,
   "metadata": {},
   "outputs": [
    {
     "name": "stdout",
     "output_type": "stream",
     "text": [
      "<class 'torch.nn.modules.conv.Conv2d'> 1 0\n",
      "<class 'torch.nn.modules.batchnorm.BatchNorm2d'> 2 0\n",
      "<class 'torch.nn.modules.activation.ReLU'> 0 0\n",
      "<class 'torch.nn.modules.pooling.MaxPool2d'> 0 0\n",
      "<class 'torch.nn.modules.container.Sequential'> 18 0\n",
      "<class 'torch.nn.modules.container.Sequential'> 27 0\n",
      "<class 'torch.nn.modules.container.Sequential'> 39 0\n",
      "<class 'torch.nn.modules.container.Sequential'> 21 21\n",
      "<class 'lib.models_repo.AdaptiveConcatPool2d'> 0 0\n",
      "<class 'lib.models_repo.Flatten'> 0 0\n",
      "<class 'torch.nn.modules.batchnorm.BatchNorm1d'> 2 2\n",
      "<class 'torch.nn.modules.dropout.Dropout'> 0 0\n",
      "<class 'torch.nn.modules.linear.Linear'> 2 2\n",
      "<class 'torch.nn.modules.activation.ReLU'> 0 0\n",
      "<class 'torch.nn.modules.batchnorm.BatchNorm1d'> 2 2\n",
      "<class 'torch.nn.modules.dropout.Dropout'> 0 0\n",
      "<class 'torch.nn.modules.linear.Linear'> 2 2\n",
      "<class 'torch.nn.modules.activation.LogSoftmax'> 0 0\n"
     ]
    }
   ],
   "source": [
    "model, params_to_optimize = models_repo.resnet_extra_layers(num_classes, top_layers_to_freeze=7, debug=True)"
   ]
  },
  {
   "cell_type": "code",
   "execution_count": 21,
   "metadata": {},
   "outputs": [
    {
     "name": "stdout",
     "output_type": "stream",
     "text": [
      "Total training instances: 23000\n",
      "Total validation instances: 2000\n",
      "Classes: ['cats', 'dogs']\n"
     ]
    },
    {
     "data": {
      "application/vnd.jupyter.widget-view+json": {
       "model_id": "cd805edd30084182a685062fb9a850b8",
       "version_major": 2,
       "version_minor": 0
      },
      "text/plain": [
       "A Jupyter Widget"
      ]
     },
     "metadata": {},
     "output_type": "display_data"
    },
    {
     "name": "stdout",
     "output_type": "stream",
     "text": [
      "\n",
      "Epoch 1/10\n"
     ]
    },
    {
     "name": "stderr",
     "output_type": "stream",
     "text": [
      "180it [00:46,  3.85it/s]\n",
      "16it [00:02,  5.73it/s]"
     ]
    },
    {
     "name": "stdout",
     "output_type": "stream",
     "text": [
      "Training Loss  : 0.000441320750720637 , Acc: 0.9788695652173913\n",
      "Validation Loss: 0.00020285761239938438 , Acc: 0.991\n",
      "############################### Better model found\n",
      "\n",
      "Epoch 2/10\n"
     ]
    },
    {
     "name": "stderr",
     "output_type": "stream",
     "text": [
      "\n",
      "180it [00:48,  3.72it/s]\n",
      "16it [00:02,  5.81it/s]"
     ]
    },
    {
     "name": "stdout",
     "output_type": "stream",
     "text": [
      "Training Loss  : 9.516130653513677e-05 , Acc: 0.9965652173913043\n",
      "Validation Loss: 0.0001542573714395985 , Acc: 0.992\n",
      "############################### Better model found\n",
      "\n",
      "Epoch 3/10\n"
     ]
    },
    {
     "name": "stderr",
     "output_type": "stream",
     "text": [
      "\n",
      "180it [00:49,  3.67it/s]\n",
      "16it [00:02,  5.65it/s]"
     ]
    },
    {
     "name": "stdout",
     "output_type": "stream",
     "text": [
      "Training Loss  : 3.6620814720188955e-05 , Acc: 0.9988260869565218\n",
      "Validation Loss: 0.0001321904815849848 , Acc: 0.9945\n",
      "############################### Better model found\n",
      "\n",
      "Epoch 4/10\n"
     ]
    },
    {
     "name": "stderr",
     "output_type": "stream",
     "text": [
      "\n",
      "180it [00:51,  3.49it/s]\n",
      "16it [00:02,  5.48it/s]"
     ]
    },
    {
     "name": "stdout",
     "output_type": "stream",
     "text": [
      "Training Loss  : 2.1262643054006217e-05 , Acc: 0.9994347826086957\n",
      "Validation Loss: 0.00012752645375439898 , Acc: 0.9945\n",
      "\n",
      "Epoch 5/10\n"
     ]
    },
    {
     "name": "stderr",
     "output_type": "stream",
     "text": [
      "\n",
      "180it [00:51,  3.49it/s]\n",
      "16it [00:02,  5.71it/s]"
     ]
    },
    {
     "name": "stdout",
     "output_type": "stream",
     "text": [
      "Training Loss  : 2.1696267426823792e-05 , Acc: 0.9993043478260869\n",
      "Validation Loss: 0.0001326377458171919 , Acc: 0.9945\n",
      "\n",
      "Epoch 6/10\n"
     ]
    },
    {
     "name": "stderr",
     "output_type": "stream",
     "text": [
      "\n",
      "180it [00:51,  3.53it/s]\n",
      "16it [00:02,  5.55it/s]"
     ]
    },
    {
     "name": "stdout",
     "output_type": "stream",
     "text": [
      "Training Loss  : 1.9743881557825142e-05 , Acc: 0.9995217391304347\n",
      "Validation Loss: 0.00013063640274049249 , Acc: 0.994\n",
      "\n",
      "Epoch 7/10\n"
     ]
    },
    {
     "name": "stderr",
     "output_type": "stream",
     "text": [
      "\n",
      "180it [00:49,  3.61it/s]\n",
      "16it [00:02,  5.65it/s]"
     ]
    },
    {
     "name": "stdout",
     "output_type": "stream",
     "text": [
      "Training Loss  : 2.0816115872509293e-05 , Acc: 0.9995217391304347\n",
      "Validation Loss: 0.00013306656983331778 , Acc: 0.9945\n",
      "\n",
      "Epoch 8/10\n"
     ]
    },
    {
     "name": "stderr",
     "output_type": "stream",
     "text": [
      "\n",
      "180it [00:50,  3.59it/s]\n",
      "16it [00:02,  5.67it/s]"
     ]
    },
    {
     "name": "stdout",
     "output_type": "stream",
     "text": [
      "Training Loss  : 2.499596038947145e-05 , Acc: 0.9992608695652174\n",
      "Validation Loss: 0.00012814613652881236 , Acc: 0.9945\n",
      "\n",
      "Epoch 9/10\n"
     ]
    },
    {
     "name": "stderr",
     "output_type": "stream",
     "text": [
      "\n",
      "180it [00:51,  3.50it/s]\n",
      "16it [00:02,  5.60it/s]"
     ]
    },
    {
     "name": "stdout",
     "output_type": "stream",
     "text": [
      "Training Loss  : 1.708362389004121e-05 , Acc: 0.9996086956521739\n",
      "Validation Loss: 0.00012834883799951057 , Acc: 0.995\n",
      "############################### Better model found\n",
      "\n",
      "Epoch 10/10\n"
     ]
    },
    {
     "name": "stderr",
     "output_type": "stream",
     "text": [
      "\n",
      "180it [00:50,  3.55it/s]\n",
      "16it [00:02,  5.72it/s]"
     ]
    },
    {
     "name": "stdout",
     "output_type": "stream",
     "text": [
      "Training Loss  : 2.2309508893395894e-05 , Acc: 0.9993043478260869\n",
      "Validation Loss: 0.00012949038035003468 , Acc: 0.995\n",
      "\n"
     ]
    },
    {
     "name": "stderr",
     "output_type": "stream",
     "text": [
      "\n"
     ]
    }
   ],
   "source": [
    "model, params_to_optimize = models_repo.resnet_extra_layers(num_classes, top_layers_to_freeze=6)\n",
    "criteria, optimizer = optimizer_repo.sgd(model, 0.01, params_to_optimize=params_to_optimize)\n",
    "scheduler = scheduler_repo.step_lr(optimizer)\n",
    "\n",
    "best_model = trainer.experiment(model, criteria, optimizer, scheduler, train_loader, valid_loader, 10)"
   ]
  }
 ],
 "metadata": {
  "kernelspec": {
   "display_name": "Python 3",
   "language": "python",
   "name": "python3"
  },
  "language_info": {
   "codemirror_mode": {
    "name": "ipython",
    "version": 3
   },
   "file_extension": ".py",
   "mimetype": "text/x-python",
   "name": "python",
   "nbconvert_exporter": "python",
   "pygments_lexer": "ipython3",
   "version": "3.6.3"
  }
 },
 "nbformat": 4,
 "nbformat_minor": 2
}

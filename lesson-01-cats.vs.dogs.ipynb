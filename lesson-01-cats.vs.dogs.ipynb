{
 "cells": [
  {
   "cell_type": "code",
   "execution_count": 1,
   "metadata": {
    "collapsed": true
   },
   "outputs": [],
   "source": [
    "%reload_ext autoreload\n",
    "%autoreload 2"
   ]
  },
  {
   "cell_type": "code",
   "execution_count": 2,
   "metadata": {
    "collapsed": true
   },
   "outputs": [],
   "source": [
    "import lib.data_loaders as data_loaders\n",
    "import lib.data_transformers as data_transformers\n",
    "import lib.models_repo as models_repo\n",
    "import lib.optimizer_repo as optimizer_repo\n",
    "import lib.scheduler_repo as scheduler_repo\n",
    "import lib.trainer as trainer"
   ]
  },
  {
   "cell_type": "code",
   "execution_count": 3,
   "metadata": {
    "collapsed": true
   },
   "outputs": [],
   "source": [
    "from torchvision.datasets.folder import ImageFolder"
   ]
  },
  {
   "cell_type": "code",
   "execution_count": 4,
   "metadata": {
    "collapsed": true
   },
   "outputs": [],
   "source": [
    "%matplotlib inline"
   ]
  },
  {
   "cell_type": "code",
   "execution_count": 5,
   "metadata": {
    "collapsed": true
   },
   "outputs": [],
   "source": [
    "data_path = \"/home/as/datasets/fastai.dogscats\"\n",
    "num_classes = 2\n",
    "img_size  = 224\n",
    "batch_size = 128"
   ]
  },
  {
   "cell_type": "code",
   "execution_count": 6,
   "metadata": {
    "collapsed": true
   },
   "outputs": [],
   "source": [
    "norm = data_transformers.resnet_normaliser\n",
    "trans = data_transformers.get_transformer(img_size, norm, False)\n",
    "trans_aug = data_transformers.get_transformer(img_size, norm, True)\n",
    "trans_valid = data_transformers.get_test_valid_transformer(img_size, norm)"
   ]
  },
  {
   "cell_type": "code",
   "execution_count": 7,
   "metadata": {
    "collapsed": true
   },
   "outputs": [],
   "source": [
    "# Vanilla dataset\n",
    "train_images = ImageFolder(f'{data_path}/train', transform=trans)\n",
    "# Vanilla dataset\n",
    "train_images_aug = ImageFolder(f'{data_path}/train', transform=trans_aug)\n",
    "# For valid and test datasets\n",
    "valid_images = ImageFolder(f'{data_path}/valid', transform=trans_valid)"
   ]
  },
  {
   "cell_type": "code",
   "execution_count": 8,
   "metadata": {},
   "outputs": [
    {
     "name": "stdout",
     "output_type": "stream",
     "text": [
      "Number of train instances 23000\n",
      "Number of valid instances 2000\n"
     ]
    }
   ],
   "source": [
    "print('Number of train instances', len(train_images))\n",
    "print('Number of valid instances', len(valid_images))"
   ]
  },
  {
   "cell_type": "code",
   "execution_count": 9,
   "metadata": {},
   "outputs": [
    {
     "name": "stdout",
     "output_type": "stream",
     "text": [
      "Classes ['cats', 'dogs']\n",
      "Class index {'cats': 0, 'dogs': 1}\n"
     ]
    }
   ],
   "source": [
    "print('Classes', train_images.classes)\n",
    "print('Class index', train_images.class_to_idx)"
   ]
  },
  {
   "cell_type": "code",
   "execution_count": 10,
   "metadata": {
    "collapsed": true
   },
   "outputs": [],
   "source": [
    "train_loader = data_loaders.get_data_loader(train_images, batch_size)\n",
    "train_loader_aug = data_loaders.get_data_loader(train_images_aug, batch_size)\n",
    "valid_loader = data_loaders.get_data_loader(valid_images, batch_size)"
   ]
  },
  {
   "cell_type": "code",
   "execution_count": 11,
   "metadata": {},
   "outputs": [],
   "source": [
    "if False:\n",
    "    model = models_repo.resnet_vanilla(num_classes)\n",
    "    criteria, optimizer = optimizer_repo.sgd(model, 0.01)\n",
    "    scheduler = scheduler_repo.step_lr(optimizer)\n",
    "\n",
    "    best_model = trainer.experiment(model, criteria, optimizer, scheduler, train_loader, valid_loader, 10)"
   ]
  },
  {
   "cell_type": "code",
   "execution_count": 12,
   "metadata": {},
   "outputs": [],
   "source": [
    "if False:\n",
    "    model = models_repo.resnet_vanilla(num_classes)\n",
    "    criteria, optimizer = optimizer_repo.sgd(model, 0.01)\n",
    "    scheduler = scheduler_repo.step_lr(optimizer)\n",
    "\n",
    "    best_model = trainer.experiment(model, criteria, optimizer, scheduler, train_loader_aug, valid_loader, 10)"
   ]
  },
  {
   "cell_type": "code",
   "execution_count": 18,
   "metadata": {},
   "outputs": [
    {
     "name": "stdout",
     "output_type": "stream",
     "text": [
      "<class 'torch.nn.modules.conv.Conv2d'> 1 0\n",
      "<class 'torch.nn.modules.batchnorm.BatchNorm2d'> 2 0\n",
      "<class 'torch.nn.modules.activation.ReLU'> 0 0\n",
      "<class 'torch.nn.modules.pooling.MaxPool2d'> 0 0\n",
      "<class 'torch.nn.modules.container.Sequential'> 18 0\n",
      "<class 'torch.nn.modules.container.Sequential'> 27 0\n",
      "<class 'torch.nn.modules.container.Sequential'> 39 0\n",
      "<class 'torch.nn.modules.container.Sequential'> 21 21\n",
      "<class 'lib.models_repo.AdaptiveConcatPool2d'> 0 0\n",
      "<class 'lib.models_repo.Flatten'> 0 0\n",
      "<class 'torch.nn.modules.batchnorm.BatchNorm1d'> 2 2\n",
      "<class 'torch.nn.modules.dropout.Dropout'> 0 0\n",
      "<class 'torch.nn.modules.linear.Linear'> 2 2\n",
      "<class 'torch.nn.modules.activation.ReLU'> 0 0\n",
      "<class 'torch.nn.modules.batchnorm.BatchNorm1d'> 2 2\n",
      "<class 'torch.nn.modules.dropout.Dropout'> 0 0\n",
      "<class 'torch.nn.modules.linear.Linear'> 2 2\n",
      "<class 'torch.nn.modules.activation.LogSoftmax'> 0 0\n"
     ]
    }
   ],
   "source": [
    "model, params_to_optimize = models_repo.resnet_extra_layers(num_classes, top_layers_to_freeze=7, debug=True)"
   ]
  },
  {
   "cell_type": "code",
   "execution_count": 19,
   "metadata": {},
   "outputs": [
    {
     "name": "stdout",
     "output_type": "stream",
     "text": [
      "Total training instances: 23000\n",
      "Total validation instances: 2000\n",
      "Classes: ['cats', 'dogs']\n"
     ]
    },
    {
     "data": {
      "application/vnd.jupyter.widget-view+json": {
       "model_id": "83b7b3ec5b8c4421afbed49dd6bc21eb",
       "version_major": 2,
       "version_minor": 0
      },
      "text/plain": [
       "A Jupyter Widget"
      ]
     },
     "metadata": {},
     "output_type": "display_data"
    },
    {
     "name": "stdout",
     "output_type": "stream",
     "text": [
      "\n",
      "Epoch 1/10\n"
     ]
    },
    {
     "name": "stderr",
     "output_type": "stream",
     "text": [
      "180it [00:33,  5.37it/s]\n",
      "16it [00:02,  5.93it/s]"
     ]
    },
    {
     "name": "stdout",
     "output_type": "stream",
     "text": [
      "Training Loss  : 0.00048050932067891826 , Acc: 0.9771304347826087\n",
      "Validation Loss: 0.00019258361333049834 , Acc: 0.9905\n",
      "############################### Better model found\n",
      "\n",
      "Epoch 2/10\n"
     ]
    },
    {
     "name": "stderr",
     "output_type": "stream",
     "text": [
      "\n",
      "180it [00:34,  5.18it/s]\n",
      "16it [00:02,  5.73it/s]"
     ]
    },
    {
     "name": "stdout",
     "output_type": "stream",
     "text": [
      "Training Loss  : 0.00018754522478633116 , Acc: 0.9915652173913043\n",
      "Validation Loss: 0.0002806912930682302 , Acc: 0.9875\n",
      "\n",
      "Epoch 3/10\n"
     ]
    },
    {
     "name": "stderr",
     "output_type": "stream",
     "text": [
      "\n",
      "180it [00:35,  5.14it/s]\n",
      "16it [00:02,  5.75it/s]"
     ]
    },
    {
     "name": "stdout",
     "output_type": "stream",
     "text": [
      "Training Loss  : 0.00011760992714730293 , Acc: 0.9944347826086957\n",
      "Validation Loss: 0.00016129896673373878 , Acc: 0.991\n",
      "############################### Better model found\n",
      "\n",
      "Epoch 4/10\n"
     ]
    },
    {
     "name": "stderr",
     "output_type": "stream",
     "text": [
      "\n",
      "180it [00:35,  5.10it/s]\n",
      "16it [00:02,  5.66it/s]"
     ]
    },
    {
     "name": "stdout",
     "output_type": "stream",
     "text": [
      "Training Loss  : 8.81413320185738e-05 , Acc: 0.9963478260869565\n",
      "Validation Loss: 0.0001527098063379526 , Acc: 0.9915\n",
      "############################### Better model found\n",
      "\n",
      "Epoch 5/10\n"
     ]
    },
    {
     "name": "stderr",
     "output_type": "stream",
     "text": [
      "\n",
      "180it [00:36,  4.99it/s]\n",
      "16it [00:02,  5.67it/s]"
     ]
    },
    {
     "name": "stdout",
     "output_type": "stream",
     "text": [
      "Training Loss  : 7.938126934965586e-05 , Acc: 0.9965217391304347\n",
      "Validation Loss: 0.00014806399575900288 , Acc: 0.9905\n",
      "\n",
      "Epoch 6/10\n"
     ]
    },
    {
     "name": "stderr",
     "output_type": "stream",
     "text": [
      "\n",
      "180it [00:37,  4.84it/s]\n",
      "16it [00:02,  5.57it/s]"
     ]
    },
    {
     "name": "stdout",
     "output_type": "stream",
     "text": [
      "Training Loss  : 8.423644314145507e-05 , Acc: 0.997\n",
      "Validation Loss: 0.00016503871802706272 , Acc: 0.9905\n",
      "\n",
      "Epoch 7/10\n"
     ]
    },
    {
     "name": "stderr",
     "output_type": "stream",
     "text": [
      "\n",
      "180it [00:37,  4.83it/s]\n",
      "16it [00:02,  5.50it/s]"
     ]
    },
    {
     "name": "stdout",
     "output_type": "stream",
     "text": [
      "Training Loss  : 7.113959384150803e-05 , Acc: 0.9973043478260869\n",
      "Validation Loss: 0.00014879832230508326 , Acc: 0.9925\n",
      "############################### Better model found\n",
      "\n",
      "Epoch 8/10\n"
     ]
    },
    {
     "name": "stderr",
     "output_type": "stream",
     "text": [
      "\n",
      "180it [00:37,  4.79it/s]\n",
      "16it [00:02,  5.62it/s]"
     ]
    },
    {
     "name": "stdout",
     "output_type": "stream",
     "text": [
      "Training Loss  : 8.683344847573291e-05 , Acc: 0.9965652173913043\n",
      "Validation Loss: 0.0001437762964051217 , Acc: 0.992\n",
      "\n",
      "Epoch 9/10\n"
     ]
    },
    {
     "name": "stderr",
     "output_type": "stream",
     "text": [
      "\n",
      "180it [00:38,  4.68it/s]\n",
      "16it [00:02,  5.56it/s]"
     ]
    },
    {
     "name": "stdout",
     "output_type": "stream",
     "text": [
      "Training Loss  : 8.747086450255112e-05 , Acc: 0.9963913043478261\n",
      "Validation Loss: 0.00014347369794268162 , Acc: 0.9925\n",
      "\n",
      "Epoch 10/10\n"
     ]
    },
    {
     "name": "stderr",
     "output_type": "stream",
     "text": [
      "\n",
      "180it [00:37,  4.75it/s]\n",
      "16it [00:02,  5.54it/s]"
     ]
    },
    {
     "name": "stdout",
     "output_type": "stream",
     "text": [
      "Training Loss  : 7.754367307769945e-05 , Acc: 0.9971739130434782\n",
      "Validation Loss: 0.0001496546813286841 , Acc: 0.9915\n",
      "\n"
     ]
    },
    {
     "name": "stderr",
     "output_type": "stream",
     "text": [
      "\n"
     ]
    }
   ],
   "source": [
    "model, params_to_optimize = models_repo.resnet_extra_layers(num_classes, top_layers_to_freeze=7)\n",
    "criteria, optimizer = optimizer_repo.sgd(model, 0.01, params_to_optimize=params_to_optimize)\n",
    "scheduler = scheduler_repo.step_lr(optimizer)\n",
    "\n",
    "best_model = trainer.experiment(model, criteria, optimizer, scheduler, train_loader_aug, valid_loader, 10)"
   ]
  }
 ],
 "metadata": {
  "kernelspec": {
   "display_name": "Python 3",
   "language": "python",
   "name": "python3"
  },
  "language_info": {
   "codemirror_mode": {
    "name": "ipython",
    "version": 3
   },
   "file_extension": ".py",
   "mimetype": "text/x-python",
   "name": "python",
   "nbconvert_exporter": "python",
   "pygments_lexer": "ipython3",
   "version": "3.6.3"
  }
 },
 "nbformat": 4,
 "nbformat_minor": 2
}

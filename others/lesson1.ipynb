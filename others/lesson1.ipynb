{
 "cells": [
  {
   "cell_type": "markdown",
   "metadata": {},
   "source": [
    "## Image classification with CNN\n",
    "\n",
    "### Cats vs Dogs\n",
    "\n",
    "Here we deal with the Kaggle Cats vs Dogs competition https://www.kaggle.com/c/dogs-vs-cats\n",
    "\n",
    "Aim is to build a classifier to detect cats and dogs using PyTorch."
   ]
  },
  {
   "cell_type": "markdown",
   "metadata": {},
   "source": [
    "#### Things to learn:\n",
    "\n",
    "* Transfer learning\n",
    "* Using pre trained weights (done)\n",
    "* Freezing layers and training a subset\n",
    "* Precomputing activation functions to speed up training\n",
    "* Saving and restoring models on filesystem\n",
    "* Adaptive learning rate\n"
   ]
  },
  {
   "cell_type": "markdown",
   "metadata": {},
   "source": [
    "#### References\n",
    "\n",
    "* https://github.com/fastai/fastai/blob/master/courses/dl1/lesson1.ipynb\n",
    "* https://github.com/pytorch/examples/blob/master/imagenet/main.py\n",
    "* http://pytorch.org/tutorials/beginner/transfer_learning_tutorial.html\n",
    "* https://github.com/Spandan-Madan/Pytorch_fine_tuning_Tutorial"
   ]
  },
  {
   "cell_type": "markdown",
   "metadata": {},
   "source": [
    "### Import required libraries"
   ]
  },
  {
   "cell_type": "code",
   "execution_count": 1,
   "metadata": {
    "collapsed": true
   },
   "outputs": [],
   "source": [
    "%reload_ext autoreload\n",
    "%autoreload 2"
   ]
  },
  {
   "cell_type": "code",
   "execution_count": 2,
   "metadata": {
    "collapsed": true
   },
   "outputs": [],
   "source": [
    "# PyTorch stuff\n",
    "import torch\n",
    "import torch.nn as nn\n",
    "import torch.autograd as autograd\n",
    "import torchvision\n",
    "import torchvision.transforms as transforms\n",
    "import torch.optim as optim\n",
    "import torch.backends.cudnn as cudnn\n",
    "from torch.optim import lr_scheduler\n",
    "\n",
    "# TorchVision stuff\n",
    "import torchvision.models as models\n",
    "\n",
    "# Other stuff\n",
    "import os\n",
    "import shutil\n",
    "import matplotlib.pyplot as plt\n",
    "import numpy as np\n",
    "from tqdm import *\n",
    "\n",
    "# Custom stuff\n",
    "import utility\n",
    "\n",
    "%matplotlib inline"
   ]
  },
  {
   "cell_type": "markdown",
   "metadata": {},
   "source": [
    "### Get the dataset"
   ]
  },
  {
   "cell_type": "markdown",
   "metadata": {},
   "source": [
    "Download the dataset from http://files.fast.ai/data/dogscats.zip and update the 'data_path' below to point to the unzipped location."
   ]
  },
  {
   "cell_type": "code",
   "execution_count": 3,
   "metadata": {
    "collapsed": true
   },
   "outputs": [],
   "source": [
    "data_path = \"/home/as/datasets/fastai.dogscats\""
   ]
  },
  {
   "cell_type": "markdown",
   "metadata": {},
   "source": [
    "### Some constants"
   ]
  },
  {
   "cell_type": "code",
   "execution_count": 4,
   "metadata": {
    "collapsed": true
   },
   "outputs": [],
   "source": [
    "img_size = 224                    # The height and width size we will use for this exercise\n",
    "num_workers = 4                   # For DataLoader\n",
    "checkpoint_folder = 'checkpoints' # Folder where all checkpoint weights are to be stored"
   ]
  },
  {
   "cell_type": "code",
   "execution_count": 5,
   "metadata": {
    "collapsed": true
   },
   "outputs": [],
   "source": [
    "# Create the checkpoint folder if not exists\n",
    "if not os.path.exists(checkpoint_folder):\n",
    "    os.mkdir(checkpoint_folder)"
   ]
  },
  {
   "cell_type": "markdown",
   "metadata": {},
   "source": [
    "### Explore dataset"
   ]
  },
  {
   "cell_type": "code",
   "execution_count": 6,
   "metadata": {},
   "outputs": [
    {
     "name": "stdout",
     "output_type": "stream",
     "text": [
      "models\tsample\ttest  test1  train  valid\r\n"
     ]
    }
   ],
   "source": [
    "!ls {data_path}/"
   ]
  },
  {
   "cell_type": "code",
   "execution_count": 7,
   "metadata": {
    "collapsed": true
   },
   "outputs": [],
   "source": [
    "train_files = !ls {data_path}/train/cats"
   ]
  },
  {
   "cell_type": "code",
   "execution_count": 8,
   "metadata": {},
   "outputs": [
    {
     "data": {
      "text/plain": [
       "['cat.0.jpg',\n",
       " 'cat.10000.jpg',\n",
       " 'cat.10001.jpg',\n",
       " 'cat.10002.jpg',\n",
       " 'cat.10003.jpg',\n",
       " 'cat.10004.jpg',\n",
       " 'cat.10005.jpg',\n",
       " 'cat.10006.jpg',\n",
       " 'cat.10007.jpg']"
      ]
     },
     "execution_count": 8,
     "metadata": {},
     "output_type": "execute_result"
    }
   ],
   "source": [
    "train_files[:9]"
   ]
  },
  {
   "cell_type": "code",
   "execution_count": 9,
   "metadata": {},
   "outputs": [
    {
     "data": {
      "text/plain": [
       "<matplotlib.image.AxesImage at 0x7fdc3030e588>"
      ]
     },
     "execution_count": 9,
     "metadata": {},
     "output_type": "execute_result"
    },
    {
     "data": {
      "image/png": "[encoded data removed]",
      "text/plain": [
       "<matplotlib.figure.Figure at 0x7fdc34f3d1d0>"
      ]
     },
     "metadata": {},
     "output_type": "display_data"
    }
   ],
   "source": [
    "img = plt.imread(f'{data_path}/train/cats/{train_files[1]}')\n",
    "plt.imshow(img)"
   ]
  },
  {
   "cell_type": "code",
   "execution_count": 10,
   "metadata": {},
   "outputs": [
    {
     "data": {
      "text/plain": [
       "(359, 431, 3)"
      ]
     },
     "execution_count": 10,
     "metadata": {},
     "output_type": "execute_result"
    }
   ],
   "source": [
    "img.shape # Not in good shape, we need to convert it to a standard size"
   ]
  },
  {
   "cell_type": "code",
   "execution_count": 11,
   "metadata": {
    "collapsed": true
   },
   "outputs": [],
   "source": [
    "# Let's find the average height and width of the training images\n",
    "# This is going to take a while to run, so turn it to True if you want to see the stats\n",
    "\n",
    "if False:\n",
    "    height = 0\n",
    "    width = 0\n",
    "\n",
    "    for i in range(len(train_files)):\n",
    "        path =  data_path + '/train/cats/' + train_files[i]\n",
    "        img = plt.imread(path)\n",
    "        height += img.shape[0]\n",
    "        width += img.shape[1]\n",
    "\n",
    "    print(height/len(train_files), width/len(train_files))"
   ]
  },
  {
   "cell_type": "markdown",
   "metadata": {},
   "source": [
    "### Prepare the data loaders"
   ]
  },
  {
   "cell_type": "markdown",
   "metadata": {},
   "source": [
    "We will use the ImageFolder class to fetch our data. It can dynamically load hugh datasets by reading them on the fly.\n",
    "\n",
    "Explore ImageFolder here: https://github.com/pytorch/vision/blob/master/torchvision/datasets/folder.py"
   ]
  },
  {
   "cell_type": "markdown",
   "metadata": {},
   "source": [
    "**Transformers**\n",
    "\n",
    "Let's create the transforms that we intend to apply to our images. Let's try two of them:\n",
    "\n",
    "* One is vanilla\n",
    "* Other is with data augmentation"
   ]
  },
  {
   "cell_type": "code",
   "execution_count": 12,
   "metadata": {
    "collapsed": true
   },
   "outputs": [],
   "source": [
    "# These should match the values used for the model we choose (we are choosing resnet34 here)\n",
    "normaliser = transforms.Normalize((0.5, 0.5, 0.5), (0.5, 0.5, 0.5))\n",
    "\n",
    "# This is a vanilla transformation\n",
    "trans = transforms.Compose([transforms.Scale((img_size, img_size)), \n",
    "                            transforms.ToTensor(),\n",
    "                            normaliser])\n",
    "\n",
    "# This is a augmented transformation\n",
    "trans_augmented = transforms.Compose([transforms.Scale((img_size, img_size)), \n",
    "                                      transforms.RandomHorizontalFlip(),\n",
    "                                      # Add some more here\n",
    "                                      transforms.ToTensor(),\n",
    "                                      normaliser]) \n",
    "\n",
    "# Transformation for Validation and Test set\n",
    "trans_validation = transforms.Compose([transforms.Scale((img_size, img_size)), \n",
    "                                      transforms.ToTensor(),\n",
    "                                      normaliser]) "
   ]
  },
  {
   "cell_type": "markdown",
   "metadata": {},
   "source": [
    "** Datasets **"
   ]
  },
  {
   "cell_type": "code",
   "execution_count": 13,
   "metadata": {
    "collapsed": true
   },
   "outputs": [],
   "source": [
    "from torchvision.datasets.folder import ImageFolder\n",
    "\n",
    "# Vanilla dataset\n",
    "train_images = ImageFolder(f'{data_path}/train', transform=trans)\n",
    "\n",
    "# Augmented dataset\n",
    "train_images_augmented = ImageFolder(f'{data_path}/train', transform=trans_augmented)\n",
    "\n",
    "# For valid and test datasets\n",
    "valid_images = ImageFolder(f'{data_path}/valid', transform=trans_validation)"
   ]
  },
  {
   "cell_type": "code",
   "execution_count": 14,
   "metadata": {},
   "outputs": [
    {
     "name": "stdout",
     "output_type": "stream",
     "text": [
      "['cats', 'dogs']\n",
      "{'cats': 0, 'dogs': 1}\n"
     ]
    },
    {
     "data": {
      "text/plain": [
       "[('/home/as/datasets/fastai.dogscats/train/cats/cat.0.jpg', 0),\n",
       " ('/home/as/datasets/fastai.dogscats/train/cats/cat.1.jpg', 0),\n",
       " ('/home/as/datasets/fastai.dogscats/train/cats/cat.10.jpg', 0)]"
      ]
     },
     "execution_count": 14,
     "metadata": {},
     "output_type": "execute_result"
    }
   ],
   "source": [
    "print(train_images.classes)\n",
    "print(train_images.class_to_idx)\n",
    "train_images.imgs[:3]"
   ]
  },
  {
   "cell_type": "markdown",
   "metadata": {},
   "source": [
    "**DataLoader**s\n",
    "\n",
    "Ok, now that we have our datasets defined, the following creates dataloaders based on the batch size passed. We want to try with different batch sizes."
   ]
  },
  {
   "cell_type": "code",
   "execution_count": 15,
   "metadata": {
    "collapsed": true
   },
   "outputs": [],
   "source": [
    "def get_loaders(batch_size):\n",
    "    train_image_loader = torch.utils.data.DataLoader(train_images, \n",
    "                                                     batch_size=batch_size, \n",
    "                                                     shuffle=True, \n",
    "                                                     num_workers=num_workers, \n",
    "                                                     pin_memory=True) # For speedup, not always guaranteed\n",
    "\n",
    "    train_image_aug_loader = torch.utils.data.DataLoader(train_images_augmented, \n",
    "                                                         batch_size=batch_size, \n",
    "                                                         shuffle=True, \n",
    "                                                         num_workers=num_workers, \n",
    "                                                         pin_memory=True) # For speedup, not always guaranteed\n",
    "\n",
    "    valid_image_loader = torch.utils.data.DataLoader(valid_images, \n",
    "                                                     batch_size=batch_size, \n",
    "                                                     shuffle=True, \n",
    "                                                     num_workers=num_workers, \n",
    "                                                     pin_memory=True) # For speedup, not always guaranteed\n",
    "\n",
    "    return train_image_loader, valid_image_loader, train_image_aug_loader"
   ]
  },
  {
   "cell_type": "markdown",
   "metadata": {},
   "source": [
    "### Use a pre-trained model to create this classifier"
   ]
  },
  {
   "cell_type": "code",
   "execution_count": 16,
   "metadata": {},
   "outputs": [
    {
     "name": "stdout",
     "output_type": "stream",
     "text": [
      "We can choose from these pre trained models in PyTorch\n",
      "------------------------------------------------------\n",
      "alexnet\n",
      "resnet18\n",
      "resnet34\n",
      "resnet50\n",
      "resnet101\n",
      "resnet152\n",
      "vgg11\n",
      "vgg11_bn\n",
      "vgg13\n",
      "vgg13_bn\n",
      "vgg16\n",
      "vgg16_bn\n",
      "vgg19_bn\n",
      "vgg19\n",
      "squeezenet1_0\n",
      "squeezenet1_1\n",
      "inception_v3\n",
      "densenet121\n",
      "densenet169\n",
      "densenet201\n",
      "densenet161\n"
     ]
    }
   ],
   "source": [
    "# Let's see which all models are available to us from PyTorch\n",
    "\n",
    "print('We can choose from these pre trained models in PyTorch')\n",
    "print('------------------------------------------------------')\n",
    "for model in models.__dict__:\n",
    "    if model.islower() and not model.startswith(\"__\") and callable(models.__dict__[model]):\n",
    "        print(model)"
   ]
  },
  {
   "cell_type": "code",
   "execution_count": 17,
   "metadata": {
    "collapsed": true
   },
   "outputs": [],
   "source": [
    "# Put benchmark on\n",
    "cudnn.benchmark = True"
   ]
  },
  {
   "cell_type": "markdown",
   "metadata": {
    "collapsed": true
   },
   "source": [
    "### The Experiment"
   ]
  },
  {
   "cell_type": "markdown",
   "metadata": {},
   "source": [
    "Now what I have done here is created a function called experiment which will do the training based on the parameters passed. We can then experiment with various combinations to see the effect of each one."
   ]
  },
  {
   "cell_type": "code",
   "execution_count": 18,
   "metadata": {
    "collapsed": true
   },
   "outputs": [],
   "source": [
    "# With this function, we can experiment with various parameter combinations\n",
    "\n",
    "def experiment(model,\n",
    "               criteria,\n",
    "               optimizer,\n",
    "               exp_lr_scheduler,\n",
    "               batch_size=128, \n",
    "               num_epochs=5, \n",
    "               use_augmentation=False,\n",
    "              ):\n",
    "    \n",
    "    # Fetch data loaders for the batch size passed\n",
    "    train_image_loader, valid_image_loader, train_image_aug_loader = get_loaders(batch_size)\n",
    "    \n",
    "    # Are we to use vanilla or augmented data?\n",
    "    if use_augmentation:\n",
    "        train_loader = train_image_aug_loader\n",
    "    else:\n",
    "        train_loader = train_image_loader\n",
    "    \n",
    "    print('Total training instances:', len(train_loader.dataset))\n",
    "    print('Total validation instances:', len(valid_image_loader.dataset))\n",
    "    print('Classes:', train_image_loader.dataset.classes)\n",
    "    \n",
    "    # We will track the best validation precision available, and the checkpoint file it is contained in\n",
    "    best_accuracy = 0.0 \n",
    "    best_model_weights = None\n",
    "    \n",
    "    for e in range(num_epochs):\n",
    "        \n",
    "        print('\\nEpoch {}/{}'.format(e+1, num_epochs))\n",
    "        \n",
    "    \n",
    "        #################################################\n",
    "        # Train\n",
    "        #################################################\n",
    "        \n",
    "        model.train()\n",
    "        exp_lr_scheduler.step()\n",
    "        \n",
    "        train_loss = 0.0\n",
    "        train_accuracy = 0.0\n",
    "        count = 0\n",
    "        \n",
    "        for i, (input, target) in tqdm(enumerate(train_loader)):\n",
    "\n",
    "            input_var = autograd.Variable(input.cuda())\n",
    "            target_var = autograd.Variable(target.cuda())\n",
    "            optimizer.zero_grad()\n",
    "            output = model(input_var).cuda()\n",
    "            _, preds = torch.max(output.data, 1)\n",
    "            loss = criteria(output, target_var)\n",
    "\n",
    "            \n",
    "            loss.backward()\n",
    "            optimizer.step()\n",
    "            \n",
    "            train_loss += loss.data[0]\n",
    "            train_accuracy += torch.sum(preds == target_var.data)\n",
    "            \n",
    "        epoch_train_loss = train_loss / len(train_loader.dataset) \n",
    "        epoch_train_acc = train_accuracy / len(train_loader.dataset)\n",
    "\n",
    "        #################################################\n",
    "        # Validate\n",
    "        #################################################\n",
    "        # Every epoch we calculate the validation accuracy\n",
    "        \n",
    "        model.train()\n",
    "        \n",
    "        val_loss = 0.0\n",
    "        val_accuracy = 0.0\n",
    "        count = 0\n",
    "        \n",
    "        for i, (input, target) in tqdm(enumerate(valid_image_loader)):\n",
    "\n",
    "            input_var = autograd.Variable(input.cuda())\n",
    "            target_var = autograd.Variable(target.cuda())\n",
    "            optimizer.zero_grad()\n",
    "            output = model(input_var).cuda()\n",
    "            _, preds = torch.max(output.data, 1)\n",
    "            loss = criteria(output, target_var)\n",
    "\n",
    "            val_loss += loss.data[0]\n",
    "            val_accuracy += torch.sum(preds == target_var.data)\n",
    "            \n",
    "        epoch_val_loss = val_loss / len(valid_image_loader.dataset) \n",
    "        epoch_val_acc = val_accuracy / len(valid_image_loader.dataset)\n",
    "        \n",
    "            \n",
    "        print('Training Loss  :', epoch_train_loss, ', Acc:', epoch_train_acc)\n",
    "        print('Validation Loss:', epoch_val_loss, ', Acc:', epoch_val_acc)\n",
    "        \n",
    "        #################################################\n",
    "        # Checkpointing\n",
    "        #################################################\n",
    "        # Save the model if best so far\n",
    "        if epoch_val_acc > best_accuracy:\n",
    "            print('--> Better model found')\n",
    "            best_model_weights = model.state_dict()\n",
    "            best_accuracy = epoch_val_acc\n",
    "           \n",
    "        # Adjust learning rate - every 10 epocs, decay the learning rate by 10%\n",
    "        #effective_lr = lr * (0.1 ** (e // 10))\n",
    "        #for param_group in optimizer.param_groups:\n",
    "        #    param_group['lr'] = effective_lr\n",
    "            \n",
    "    model.load_state_dict(best_model_weights)\n",
    "    return model"
   ]
  },
  {
   "cell_type": "code",
   "execution_count": 19,
   "metadata": {
    "collapsed": true
   },
   "outputs": [],
   "source": [
    "def exper(model, batch_size = 128):\n",
    "    \n",
    "    init_lr=0.01\n",
    "    momentum=0.9 \n",
    "    weight_decay=1e-4\n",
    "    batch_size = batch_size\n",
    "    num_epochs = 5\n",
    "\n",
    "    # Now we can also try with different optimizers, for another day\n",
    "    criterion = nn.CrossEntropyLoss().cuda()\n",
    "    optimizer = torch.optim.SGD(model.fc.parameters(), lr=init_lr, momentum=momentum, weight_decay=weight_decay)\n",
    "\n",
    "    # The learning rate scheduler - Decay LR by a factor of 0.1 every 7 epochs\n",
    "    exp_lr_scheduler = lr_scheduler.StepLR(optimizer, step_size=2, gamma=0.1)\n",
    "\n",
    "\n",
    "    best_checkpoint = experiment(model, criterion, optimizer, exp_lr_scheduler, batch_size=batch_size, \n",
    "                                 num_epochs=num_epochs, use_augmentation=True)\n"
   ]
  },
  {
   "cell_type": "markdown",
   "metadata": {},
   "source": [
    "### Now let's experiment!\n",
    "\n",
    "Let's use the pretrained model as a feature extractor. We will freeze all layers except the last fully connected layer"
   ]
  },
  {
   "cell_type": "code",
   "execution_count": 20,
   "metadata": {},
   "outputs": [
    {
     "name": "stdout",
     "output_type": "stream",
     "text": [
      "Total training instances: 23000\n",
      "Total validation instances: 2000\n",
      "Classes: ['cats', 'dogs']\n",
      "\n",
      "Epoch 1/5\n"
     ]
    },
    {
     "name": "stderr",
     "output_type": "stream",
     "text": [
      "180it [00:26,  6.69it/s]\n",
      "16it [00:02,  5.60it/s]"
     ]
    },
    {
     "name": "stdout",
     "output_type": "stream",
     "text": [
      "Training Loss  : 0.0005726022878661752 , Acc: 0.9699130434782609\n",
      "Validation Loss: 0.00041478184796869756 , Acc: 0.977\n",
      "--> Better model found\n",
      "\n",
      "Epoch 2/5\n"
     ]
    },
    {
     "name": "stderr",
     "output_type": "stream",
     "text": [
      "\n",
      "180it [00:26,  6.84it/s]\n",
      "16it [00:02,  5.88it/s]"
     ]
    },
    {
     "name": "stdout",
     "output_type": "stream",
     "text": [
      "Training Loss  : 0.00043167554453501237 , Acc: 0.9798695652173913\n",
      "Validation Loss: 0.0003413965753279626 , Acc: 0.986\n",
      "--> Better model found\n",
      "\n",
      "Epoch 3/5\n"
     ]
    },
    {
     "name": "stderr",
     "output_type": "stream",
     "text": [
      "\n",
      "180it [00:26,  6.88it/s]\n",
      "16it [00:02,  5.91it/s]"
     ]
    },
    {
     "name": "stdout",
     "output_type": "stream",
     "text": [
      "Training Loss  : 0.00033205057208871713 , Acc: 0.9844782608695652\n",
      "Validation Loss: 0.0002894825071562082 , Acc: 0.9845\n",
      "\n",
      "Epoch 4/5\n"
     ]
    },
    {
     "name": "stderr",
     "output_type": "stream",
     "text": [
      "\n",
      "180it [00:26,  6.86it/s]\n",
      "16it [00:02,  5.91it/s]"
     ]
    },
    {
     "name": "stdout",
     "output_type": "stream",
     "text": [
      "Training Loss  : 0.00031363311371482587 , Acc: 0.9846956521739131\n",
      "Validation Loss: 0.00030451364628970623 , Acc: 0.986\n",
      "\n",
      "Epoch 5/5\n"
     ]
    },
    {
     "name": "stderr",
     "output_type": "stream",
     "text": [
      "\n",
      "180it [00:26,  6.84it/s]\n",
      "16it [00:02,  5.89it/s]"
     ]
    },
    {
     "name": "stdout",
     "output_type": "stream",
     "text": [
      "Training Loss  : 0.0003134068909465619 , Acc: 0.9860869565217392\n",
      "Validation Loss: 0.0003772539929486811 , Acc: 0.9805\n"
     ]
    },
    {
     "name": "stderr",
     "output_type": "stream",
     "text": [
      "\n"
     ]
    }
   ],
   "source": [
    "model = models.resnet34(pretrained=True)\n",
    "\n",
    "for param in model.parameters():\n",
    "    param.requires_grad = False\n",
    "\n",
    "# Reconfigure the last layer to have\n",
    "num_ftrs = model.fc.in_features\n",
    "model.fc = nn.Linear(num_ftrs, 2) # 2 classes - cats and dogs\n",
    "model = model.cuda()\n",
    "\n",
    "exper(model)"
   ]
  },
  {
   "cell_type": "markdown",
   "metadata": {},
   "source": [
    "**Experiment 2**: Unfreeze a few more layers in the feature extractor"
   ]
  },
  {
   "cell_type": "code",
   "execution_count": 21,
   "metadata": {},
   "outputs": [
    {
     "name": "stdout",
     "output_type": "stream",
     "text": [
      "<class 'torch.nn.modules.conv.Conv2d'> Froozen\n",
      "<class 'torch.nn.modules.batchnorm.BatchNorm2d'> Froozen\n",
      "<class 'torch.nn.modules.activation.ReLU'> Froozen\n",
      "<class 'torch.nn.modules.pooling.MaxPool2d'> Froozen\n",
      "<class 'torch.nn.modules.container.Sequential'> Froozen\n",
      "<class 'torch.nn.modules.container.Sequential'> Froozen\n",
      "Total training instances: 23000\n",
      "Total validation instances: 2000\n",
      "Classes: ['cats', 'dogs']\n",
      "\n",
      "Epoch 1/5\n"
     ]
    },
    {
     "name": "stderr",
     "output_type": "stream",
     "text": [
      "180it [01:07,  2.65it/s]\n",
      "16it [00:02,  5.79it/s]"
     ]
    },
    {
     "name": "stdout",
     "output_type": "stream",
     "text": [
      "Training Loss  : 0.0007110766166335215 , Acc: 0.9636521739130435\n",
      "Validation Loss: 0.00042385931126773355 , Acc: 0.9795\n",
      "--> Better model found\n",
      "\n",
      "Epoch 2/5\n"
     ]
    },
    {
     "name": "stderr",
     "output_type": "stream",
     "text": [
      "\n",
      "180it [01:07,  2.68it/s]\n",
      "16it [00:02,  5.71it/s]"
     ]
    },
    {
     "name": "stdout",
     "output_type": "stream",
     "text": [
      "Training Loss  : 0.0004256293255754787 , Acc: 0.9803478260869565\n",
      "Validation Loss: 0.0006891898699104786 , Acc: 0.9665\n",
      "\n",
      "Epoch 3/5\n"
     ]
    },
    {
     "name": "stderr",
     "output_type": "stream",
     "text": [
      "\n",
      "180it [01:07,  2.68it/s]\n",
      "16it [00:02,  5.85it/s]"
     ]
    },
    {
     "name": "stdout",
     "output_type": "stream",
     "text": [
      "Training Loss  : 0.0003529432940337321 , Acc: 0.9836086956521739\n",
      "Validation Loss: 0.000323486540466547 , Acc: 0.9835\n",
      "--> Better model found\n",
      "\n",
      "Epoch 4/5\n"
     ]
    },
    {
     "name": "stderr",
     "output_type": "stream",
     "text": [
      "\n",
      "180it [01:07,  2.66it/s]\n",
      "16it [00:02,  5.90it/s]"
     ]
    },
    {
     "name": "stdout",
     "output_type": "stream",
     "text": [
      "Training Loss  : 0.0003378491186455864 , Acc: 0.9836086956521739\n",
      "Validation Loss: 0.00032732656924054025 , Acc: 0.981\n",
      "\n",
      "Epoch 5/5\n"
     ]
    },
    {
     "name": "stderr",
     "output_type": "stream",
     "text": [
      "\n",
      "180it [01:07,  2.66it/s]\n",
      "16it [00:02,  5.87it/s]"
     ]
    },
    {
     "name": "stdout",
     "output_type": "stream",
     "text": [
      "Training Loss  : 0.00031052178375260987 , Acc: 0.9851304347826086\n",
      "Validation Loss: 0.0003670980129390955 , Acc: 0.983\n"
     ]
    },
    {
     "name": "stderr",
     "output_type": "stream",
     "text": [
      "\n"
     ]
    }
   ],
   "source": [
    "model = models.resnet34(pretrained=True)\n",
    "\n",
    "i = 0\n",
    "for param in model.children():\n",
    "    param.requires_grad = False\n",
    "    print(type(param), 'Froozen')\n",
    "    i += 1\n",
    "    if i > 5:\n",
    "        break\n",
    "\n",
    "# Reconfigure the last layer to have\n",
    "num_ftrs = model.fc.in_features\n",
    "model.fc = nn.Linear(num_ftrs, 2) # 2 classes - cats and dogs\n",
    "model = model.cuda()\n",
    "\n",
    "exper(model, 128)"
   ]
  },
  {
   "cell_type": "markdown",
   "metadata": {},
   "source": [
    "### Test with test set"
   ]
  },
  {
   "cell_type": "code",
   "execution_count": null,
   "metadata": {
    "collapsed": true
   },
   "outputs": [],
   "source": [
    "# best_checkpoint = 'checkpoints/checkpoint_2.pth.tar'"
   ]
  },
  {
   "cell_type": "code",
   "execution_count": null,
   "metadata": {
    "collapsed": true
   },
   "outputs": [],
   "source": [
    "best_checkpoint = None"
   ]
  },
  {
   "cell_type": "code",
   "execution_count": null,
   "metadata": {
    "collapsed": true
   },
   "outputs": [],
   "source": [
    "def show_image(img):\n",
    "    inp = img.numpy().transpose((1, 2, 0))\n",
    "    mean = np.array([0.5, 0.5, 0.5])\n",
    "    std = np.array([0.5, 0.5, 0.5])\n",
    "    inp = std * inp + mean\n",
    "    inp = np.clip(inp, 0, 1)\n",
    "    plt.imshow(inp)\n",
    "    plt.pause(0.001)  # pause a bit so that plots are updated"
   ]
  },
  {
   "cell_type": "code",
   "execution_count": null,
   "metadata": {
    "collapsed": true
   },
   "outputs": [],
   "source": [
    "model_name, model_state_dict, optimizer_state_dict, epoch_num, best_precision = utility.load_model(best_checkpoint)\n"
   ]
  },
  {
   "cell_type": "code",
   "execution_count": null,
   "metadata": {
    "collapsed": true
   },
   "outputs": [],
   "source": [
    "\n",
    "test_model = models.resnet152(pretrained=True)\n",
    "\n",
    "for param in model.parameters():\n",
    "    param.requires_grad = False\n",
    "\n",
    "num_ftrs = test_model.fc.in_features\n",
    "test_model.fc = nn.Linear(num_ftrs, 2)\n",
    "test_model = test_model.cuda()\n",
    "test_model.load_state_dict(model_state_dict)\n",
    "\n",
    "test_images = utility.TestFolder(f'{data_path}/test1', \"jpg\", transform=trans_validation)\n",
    "\n",
    "test_image_loader = torch.utils.data.DataLoader(test_images,\n",
    "                                                batch_size=1,\n",
    "                                                shuffle=True,\n",
    "                                                num_workers=num_workers,\n",
    "                                                pin_memory=True)\n",
    "\n",
    "to_show = 4\n",
    "for i, data in enumerate(test_image_loader):\n",
    "    data_gpu = autograd.Variable(data.cuda())\n",
    "    \n",
    "    outputs = test_model(data_gpu)\n",
    "    _, preds = torch.max(outputs.data, 1)\n",
    "    c = preds[0]\n",
    "    if c == 0:\n",
    "        print('cat')\n",
    "    else:\n",
    "        print('dog')\n",
    "    show_image(data_gpu.cpu().data[0])\n",
    "    to_show -= 1\n",
    "    if to_show < 0:\n",
    "        break"
   ]
  }
 ],
 "metadata": {
  "kernelspec": {
   "display_name": "Python 3",
   "language": "python",
   "name": "python3"
  },
  "language_info": {
   "codemirror_mode": {
    "name": "ipython",
    "version": 3
   },
   "file_extension": ".py",
   "mimetype": "text/x-python",
   "name": "python",
   "nbconvert_exporter": "python",
   "pygments_lexer": "ipython3",
   "version": "3.6.3"
  }
 },
 "nbformat": 4,
 "nbformat_minor": 2
}

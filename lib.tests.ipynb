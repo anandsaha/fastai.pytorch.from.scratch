{
 "cells": [
  {
   "cell_type": "markdown",
   "metadata": {},
   "source": [
    "In this notebook, I test some of the library functions from lib/."
   ]
  },
  {
   "cell_type": "code",
   "execution_count": 39,
   "metadata": {
    "collapsed": true
   },
   "outputs": [],
   "source": [
    "%reload_ext autoreload\n",
    "%autoreload 2"
   ]
  },
  {
   "cell_type": "code",
   "execution_count": 52,
   "metadata": {},
   "outputs": [],
   "source": [
    "import lib.data_loaders as data_loaders\n",
    "import lib.data_transformers as data_transformers\n",
    "import lib.models_repo as models_repo\n",
    "import lib.optimizer_repo as optimizer_repo\n",
    "import lib.scheduler_repo as scheduler_repo\n",
    "import lib.trainer as trainer\n",
    "\n",
    "import matplotlib.pyplot as plt\n",
    "from lib.datasets import DatasetFromCSV\n",
    "import torchvision.transforms as transforms\n",
    "\n",
    "import pandas as pd\n",
    "\n",
    "%matplotlib inline"
   ]
  },
  {
   "cell_type": "code",
   "execution_count": 46,
   "metadata": {
    "collapsed": true
   },
   "outputs": [],
   "source": [
    "batch_size = 128\n",
    "ext = 'jpg'\n",
    "img_size = 224"
   ]
  },
  {
   "cell_type": "code",
   "execution_count": 47,
   "metadata": {},
   "outputs": [],
   "source": [
    "data_path = \"/home/as/datasets/kaggle.dog.breed/train\"\n",
    "csv_file = \"/home/as/datasets/kaggle.dog.breed/labels.csv\"\n",
    "sample_submission_file = '/home/as/datasets/kaggle.dog.breed/sample_submission.csv'\n",
    "\n",
    "training_data = pd.read_csv(csv_file).values\n",
    "sub = pd.read_csv(sample_submission_file,)\n",
    "classes = list(sub)[1:]\n",
    "\n",
    "norm = data_transformers.resnet_normaliser\n",
    "trans_aug = data_transformers.get_transformer(img_size, norm, True)\n",
    "\n",
    "train_images_aug = DatasetFromCSV(training_data, classes, data_path, ext, transform=trans_aug)\n",
    "train_loader_aug = data_loaders.get_data_loader(train_images_aug, batch_size)"
   ]
  },
  {
   "cell_type": "code",
   "execution_count": 48,
   "metadata": {},
   "outputs": [
    {
     "data": {
      "text/plain": [
       "(10222, 2)"
      ]
     },
     "execution_count": 48,
     "metadata": {},
     "output_type": "execute_result"
    }
   ],
   "source": [
    "training_data.shape"
   ]
  },
  {
   "cell_type": "code",
   "execution_count": 55,
   "metadata": {},
   "outputs": [
    {
     "name": "stdout",
     "output_type": "stream",
     "text": [
      "<class 'torch.LongTensor'>\n"
     ]
    }
   ],
   "source": [
    "for i, item in enumerate(train_loader_aug):\n",
    "    img = item[1]\n",
    "    print(type(img))\n",
    "    break"
   ]
  }
 ],
 "metadata": {
  "kernelspec": {
   "display_name": "Python 3",
   "language": "python",
   "name": "python3"
  },
  "language_info": {
   "codemirror_mode": {
    "name": "ipython",
    "version": 3
   },
   "file_extension": ".py",
   "mimetype": "text/x-python",
   "name": "python",
   "nbconvert_exporter": "python",
   "pygments_lexer": "ipython3",
   "version": "3.6.3"
  }
 },
 "nbformat": 4,
 "nbformat_minor": 2
}
